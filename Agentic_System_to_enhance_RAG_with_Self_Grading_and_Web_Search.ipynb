{
  "nbformat": 4,
  "nbformat_minor": 0,
  "metadata": {
    "colab": {
      "provenance": []
    },
    "kernelspec": {
      "name": "python3",
      "display_name": "Python 3"
    },
    "language_info": {
      "name": "python"
    }
  },
  "cells": [
    {
      "cell_type": "code",
      "execution_count": null,
      "metadata": {
        "colab": {
          "base_uri": "https://localhost:8080/"
        },
        "id": "yY88dLXcJRqp",
        "outputId": "c58d89e7-63d1-47b2-9d56-2ba515842299"
      },
      "outputs": [
        {
          "output_type": "stream",
          "name": "stdout",
          "text": [
            "\u001b[2K   \u001b[90m━━━━━━━━━━━━━━━━━━━━━━━━━━━━━━━━━━━━━━━━\u001b[0m \u001b[32m60.7/60.7 kB\u001b[0m \u001b[31m2.8 MB/s\u001b[0m eta \u001b[36m0:00:00\u001b[0m\n",
            "\u001b[2K   \u001b[90m━━━━━━━━━━━━━━━━━━━━━━━━━━━━━━━━━━━━━━━━\u001b[0m \u001b[32m209.8/209.8 kB\u001b[0m \u001b[31m5.4 MB/s\u001b[0m eta \u001b[36m0:00:00\u001b[0m\n",
            "\u001b[2K   \u001b[90m━━━━━━━━━━━━━━━━━━━━━━━━━━━━━━━━━━━━━━━━\u001b[0m \u001b[32m127.1/127.1 kB\u001b[0m \u001b[31m7.7 MB/s\u001b[0m eta \u001b[36m0:00:00\u001b[0m\n",
            "\u001b[2K   \u001b[90m━━━━━━━━━━━━━━━━━━━━━━━━━━━━━━━━━━━━━━━━\u001b[0m \u001b[32m109.1/109.1 kB\u001b[0m \u001b[31m2.2 MB/s\u001b[0m eta \u001b[36m0:00:00\u001b[0m\n",
            "\u001b[2K   \u001b[90m━━━━━━━━━━━━━━━━━━━━━━━━━━━━━━━━━━━━━━━━\u001b[0m \u001b[32m71.1/71.1 kB\u001b[0m \u001b[31m3.8 MB/s\u001b[0m eta \u001b[36m0:00:00\u001b[0m\n",
            "\u001b[?25h\u001b[31mERROR: pip's dependency resolver does not currently take into account all the packages that are installed. This behaviour is the source of the following dependency conflicts.\n",
            "google-colab 1.0.0 requires google-auth==2.27.0, but you have google-auth 2.37.0 which is incompatible.\u001b[0m\u001b[31m\n",
            "\u001b[0mRequirement already satisfied: pydantic-ai-slim[groq,logfire,openai] in /usr/local/lib/python3.10/dist-packages (0.0.12)\n",
            "Requirement already satisfied: eval-type-backport>=0.2.0 in /usr/local/lib/python3.10/dist-packages (from pydantic-ai-slim[groq,logfire,openai]) (0.2.0)\n",
            "Requirement already satisfied: griffe>=1.3.2 in /usr/local/lib/python3.10/dist-packages (from pydantic-ai-slim[groq,logfire,openai]) (1.5.1)\n",
            "Requirement already satisfied: httpx>=0.27.2 in /usr/local/lib/python3.10/dist-packages (from pydantic-ai-slim[groq,logfire,openai]) (0.28.1)\n",
            "Requirement already satisfied: logfire-api>=1.2.0 in /usr/local/lib/python3.10/dist-packages (from pydantic-ai-slim[groq,logfire,openai]) (2.7.1)\n",
            "Requirement already satisfied: pydantic>=2.10 in /usr/local/lib/python3.10/dist-packages (from pydantic-ai-slim[groq,logfire,openai]) (2.10.3)\n",
            "Requirement already satisfied: openai>=1.54.3 in /usr/local/lib/python3.10/dist-packages (from pydantic-ai-slim[groq,logfire,openai]) (1.54.5)\n",
            "Collecting logfire>=2.3 (from pydantic-ai-slim[groq,logfire,openai])\n",
            "  Downloading logfire-2.7.1-py3-none-any.whl.metadata (8.4 kB)\n",
            "Requirement already satisfied: groq>=0.12.0 in /usr/local/lib/python3.10/dist-packages (from pydantic-ai-slim[groq,logfire,openai]) (0.13.1)\n",
            "Requirement already satisfied: colorama>=0.4 in /usr/local/lib/python3.10/dist-packages (from griffe>=1.3.2->pydantic-ai-slim[groq,logfire,openai]) (0.4.6)\n",
            "Requirement already satisfied: anyio<5,>=3.5.0 in /usr/local/lib/python3.10/dist-packages (from groq>=0.12.0->pydantic-ai-slim[groq,logfire,openai]) (3.7.1)\n",
            "Requirement already satisfied: distro<2,>=1.7.0 in /usr/local/lib/python3.10/dist-packages (from groq>=0.12.0->pydantic-ai-slim[groq,logfire,openai]) (1.9.0)\n",
            "Requirement already satisfied: sniffio in /usr/local/lib/python3.10/dist-packages (from groq>=0.12.0->pydantic-ai-slim[groq,logfire,openai]) (1.3.1)\n",
            "Requirement already satisfied: typing-extensions<5,>=4.10 in /usr/local/lib/python3.10/dist-packages (from groq>=0.12.0->pydantic-ai-slim[groq,logfire,openai]) (4.12.2)\n",
            "Requirement already satisfied: certifi in /usr/local/lib/python3.10/dist-packages (from httpx>=0.27.2->pydantic-ai-slim[groq,logfire,openai]) (2024.8.30)\n",
            "Requirement already satisfied: httpcore==1.* in /usr/local/lib/python3.10/dist-packages (from httpx>=0.27.2->pydantic-ai-slim[groq,logfire,openai]) (1.0.7)\n",
            "Requirement already satisfied: idna in /usr/local/lib/python3.10/dist-packages (from httpx>=0.27.2->pydantic-ai-slim[groq,logfire,openai]) (3.10)\n",
            "Requirement already satisfied: h11<0.15,>=0.13 in /usr/local/lib/python3.10/dist-packages (from httpcore==1.*->httpx>=0.27.2->pydantic-ai-slim[groq,logfire,openai]) (0.14.0)\n",
            "Requirement already satisfied: executing>=2.0.1 in /usr/local/lib/python3.10/dist-packages (from logfire>=2.3->pydantic-ai-slim[groq,logfire,openai]) (2.1.0)\n",
            "Collecting opentelemetry-exporter-otlp-proto-http>=1.21.0 (from logfire>=2.3->pydantic-ai-slim[groq,logfire,openai])\n",
            "  Downloading opentelemetry_exporter_otlp_proto_http-1.29.0-py3-none-any.whl.metadata (2.2 kB)\n",
            "Collecting opentelemetry-instrumentation>=0.41b0 (from logfire>=2.3->pydantic-ai-slim[groq,logfire,openai])\n",
            "  Downloading opentelemetry_instrumentation-0.50b0-py3-none-any.whl.metadata (6.1 kB)\n",
            "Requirement already satisfied: opentelemetry-sdk>=1.21.0 in /usr/local/lib/python3.10/dist-packages (from logfire>=2.3->pydantic-ai-slim[groq,logfire,openai]) (1.28.2)\n",
            "Requirement already satisfied: protobuf>=4.23.4 in /usr/local/lib/python3.10/dist-packages (from logfire>=2.3->pydantic-ai-slim[groq,logfire,openai]) (4.25.5)\n",
            "Requirement already satisfied: rich>=13.4.2 in /usr/local/lib/python3.10/dist-packages (from logfire>=2.3->pydantic-ai-slim[groq,logfire,openai]) (13.9.4)\n",
            "Requirement already satisfied: tomli>=2.0.1 in /usr/local/lib/python3.10/dist-packages (from logfire>=2.3->pydantic-ai-slim[groq,logfire,openai]) (2.2.1)\n",
            "Requirement already satisfied: jiter<1,>=0.4.0 in /usr/local/lib/python3.10/dist-packages (from openai>=1.54.3->pydantic-ai-slim[groq,logfire,openai]) (0.8.2)\n",
            "Requirement already satisfied: tqdm>4 in /usr/local/lib/python3.10/dist-packages (from openai>=1.54.3->pydantic-ai-slim[groq,logfire,openai]) (4.66.6)\n",
            "Requirement already satisfied: annotated-types>=0.6.0 in /usr/local/lib/python3.10/dist-packages (from pydantic>=2.10->pydantic-ai-slim[groq,logfire,openai]) (0.7.0)\n",
            "Requirement already satisfied: pydantic-core==2.27.1 in /usr/local/lib/python3.10/dist-packages (from pydantic>=2.10->pydantic-ai-slim[groq,logfire,openai]) (2.27.1)\n",
            "Requirement already satisfied: exceptiongroup in /usr/local/lib/python3.10/dist-packages (from anyio<5,>=3.5.0->groq>=0.12.0->pydantic-ai-slim[groq,logfire,openai]) (1.2.2)\n",
            "Requirement already satisfied: deprecated>=1.2.6 in /usr/local/lib/python3.10/dist-packages (from opentelemetry-exporter-otlp-proto-http>=1.21.0->logfire>=2.3->pydantic-ai-slim[groq,logfire,openai]) (1.2.15)\n",
            "Requirement already satisfied: googleapis-common-protos~=1.52 in /usr/local/lib/python3.10/dist-packages (from opentelemetry-exporter-otlp-proto-http>=1.21.0->logfire>=2.3->pydantic-ai-slim[groq,logfire,openai]) (1.66.0)\n",
            "Requirement already satisfied: opentelemetry-api~=1.15 in /usr/local/lib/python3.10/dist-packages (from opentelemetry-exporter-otlp-proto-http>=1.21.0->logfire>=2.3->pydantic-ai-slim[groq,logfire,openai]) (1.28.2)\n",
            "Collecting opentelemetry-exporter-otlp-proto-common==1.29.0 (from opentelemetry-exporter-otlp-proto-http>=1.21.0->logfire>=2.3->pydantic-ai-slim[groq,logfire,openai])\n",
            "  Downloading opentelemetry_exporter_otlp_proto_common-1.29.0-py3-none-any.whl.metadata (1.8 kB)\n",
            "Collecting opentelemetry-proto==1.29.0 (from opentelemetry-exporter-otlp-proto-http>=1.21.0->logfire>=2.3->pydantic-ai-slim[groq,logfire,openai])\n",
            "  Downloading opentelemetry_proto-1.29.0-py3-none-any.whl.metadata (2.3 kB)\n",
            "Collecting opentelemetry-sdk>=1.21.0 (from logfire>=2.3->pydantic-ai-slim[groq,logfire,openai])\n",
            "  Downloading opentelemetry_sdk-1.29.0-py3-none-any.whl.metadata (1.5 kB)\n",
            "Requirement already satisfied: requests~=2.7 in /usr/local/lib/python3.10/dist-packages (from opentelemetry-exporter-otlp-proto-http>=1.21.0->logfire>=2.3->pydantic-ai-slim[groq,logfire,openai]) (2.32.3)\n",
            "Collecting protobuf>=4.23.4 (from logfire>=2.3->pydantic-ai-slim[groq,logfire,openai])\n",
            "  Downloading protobuf-5.29.1-cp38-abi3-manylinux2014_x86_64.whl.metadata (592 bytes)\n",
            "Collecting opentelemetry-semantic-conventions==0.50b0 (from opentelemetry-instrumentation>=0.41b0->logfire>=2.3->pydantic-ai-slim[groq,logfire,openai])\n",
            "  Downloading opentelemetry_semantic_conventions-0.50b0-py3-none-any.whl.metadata (2.3 kB)\n",
            "Requirement already satisfied: packaging>=18.0 in /usr/local/lib/python3.10/dist-packages (from opentelemetry-instrumentation>=0.41b0->logfire>=2.3->pydantic-ai-slim[groq,logfire,openai]) (24.2)\n",
            "Requirement already satisfied: wrapt<2.0.0,>=1.0.0 in /usr/local/lib/python3.10/dist-packages (from opentelemetry-instrumentation>=0.41b0->logfire>=2.3->pydantic-ai-slim[groq,logfire,openai]) (1.17.0)\n",
            "Collecting opentelemetry-api~=1.15 (from opentelemetry-exporter-otlp-proto-http>=1.21.0->logfire>=2.3->pydantic-ai-slim[groq,logfire,openai])\n",
            "  Downloading opentelemetry_api-1.29.0-py3-none-any.whl.metadata (1.4 kB)\n",
            "Requirement already satisfied: importlib-metadata<=8.5.0,>=6.0 in /usr/local/lib/python3.10/dist-packages (from opentelemetry-api~=1.15->opentelemetry-exporter-otlp-proto-http>=1.21.0->logfire>=2.3->pydantic-ai-slim[groq,logfire,openai]) (8.5.0)\n",
            "Requirement already satisfied: markdown-it-py>=2.2.0 in /usr/local/lib/python3.10/dist-packages (from rich>=13.4.2->logfire>=2.3->pydantic-ai-slim[groq,logfire,openai]) (3.0.0)\n",
            "Requirement already satisfied: pygments<3.0.0,>=2.13.0 in /usr/local/lib/python3.10/dist-packages (from rich>=13.4.2->logfire>=2.3->pydantic-ai-slim[groq,logfire,openai]) (2.18.0)\n",
            "Requirement already satisfied: mdurl~=0.1 in /usr/local/lib/python3.10/dist-packages (from markdown-it-py>=2.2.0->rich>=13.4.2->logfire>=2.3->pydantic-ai-slim[groq,logfire,openai]) (0.1.2)\n",
            "Requirement already satisfied: charset-normalizer<4,>=2 in /usr/local/lib/python3.10/dist-packages (from requests~=2.7->opentelemetry-exporter-otlp-proto-http>=1.21.0->logfire>=2.3->pydantic-ai-slim[groq,logfire,openai]) (3.4.0)\n",
            "Requirement already satisfied: urllib3<3,>=1.21.1 in /usr/local/lib/python3.10/dist-packages (from requests~=2.7->opentelemetry-exporter-otlp-proto-http>=1.21.0->logfire>=2.3->pydantic-ai-slim[groq,logfire,openai]) (2.2.3)\n",
            "Requirement already satisfied: zipp>=3.20 in /usr/local/lib/python3.10/dist-packages (from importlib-metadata<=8.5.0,>=6.0->opentelemetry-api~=1.15->opentelemetry-exporter-otlp-proto-http>=1.21.0->logfire>=2.3->pydantic-ai-slim[groq,logfire,openai]) (3.21.0)\n",
            "Downloading logfire-2.7.1-py3-none-any.whl (173 kB)\n",
            "\u001b[2K   \u001b[90m━━━━━━━━━━━━━━━━━━━━━━━━━━━━━━━━━━━━━━━━\u001b[0m \u001b[32m173.3/173.3 kB\u001b[0m \u001b[31m3.8 MB/s\u001b[0m eta \u001b[36m0:00:00\u001b[0m\n",
            "\u001b[?25hDownloading opentelemetry_exporter_otlp_proto_http-1.29.0-py3-none-any.whl (17 kB)\n",
            "Downloading opentelemetry_exporter_otlp_proto_common-1.29.0-py3-none-any.whl (18 kB)\n",
            "Downloading opentelemetry_proto-1.29.0-py3-none-any.whl (55 kB)\n",
            "\u001b[2K   \u001b[90m━━━━━━━━━━━━━━━━━━━━━━━━━━━━━━━━━━━━━━━━\u001b[0m \u001b[32m55.8/55.8 kB\u001b[0m \u001b[31m4.4 MB/s\u001b[0m eta \u001b[36m0:00:00\u001b[0m\n",
            "\u001b[?25hDownloading opentelemetry_instrumentation-0.50b0-py3-none-any.whl (30 kB)\n",
            "Downloading opentelemetry_semantic_conventions-0.50b0-py3-none-any.whl (166 kB)\n",
            "\u001b[2K   \u001b[90m━━━━━━━━━━━━━━━━━━━━━━━━━━━━━━━━━━━━━━━━\u001b[0m \u001b[32m166.6/166.6 kB\u001b[0m \u001b[31m12.3 MB/s\u001b[0m eta \u001b[36m0:00:00\u001b[0m\n",
            "\u001b[?25hDownloading opentelemetry_api-1.29.0-py3-none-any.whl (64 kB)\n",
            "\u001b[2K   \u001b[90m━━━━━━━━━━━━━━━━━━━━━━━━━━━━━━━━━━━━━━━━\u001b[0m \u001b[32m64.3/64.3 kB\u001b[0m \u001b[31m4.2 MB/s\u001b[0m eta \u001b[36m0:00:00\u001b[0m\n",
            "\u001b[?25hDownloading opentelemetry_sdk-1.29.0-py3-none-any.whl (118 kB)\n",
            "\u001b[2K   \u001b[90m━━━━━━━━━━━━━━━━━━━━━━━━━━━━━━━━━━━━━━━━\u001b[0m \u001b[32m118.1/118.1 kB\u001b[0m \u001b[31m8.9 MB/s\u001b[0m eta \u001b[36m0:00:00\u001b[0m\n",
            "\u001b[?25hDownloading protobuf-5.29.1-cp38-abi3-manylinux2014_x86_64.whl (319 kB)\n",
            "\u001b[2K   \u001b[90m━━━━━━━━━━━━━━━━━━━━━━━━━━━━━━━━━━━━━━━━\u001b[0m \u001b[32m319.7/319.7 kB\u001b[0m \u001b[31m19.6 MB/s\u001b[0m eta \u001b[36m0:00:00\u001b[0m\n",
            "\u001b[?25hInstalling collected packages: protobuf, opentelemetry-proto, opentelemetry-api, opentelemetry-semantic-conventions, opentelemetry-exporter-otlp-proto-common, opentelemetry-sdk, opentelemetry-instrumentation, opentelemetry-exporter-otlp-proto-http, logfire\n",
            "  Attempting uninstall: protobuf\n",
            "    Found existing installation: protobuf 4.25.5\n",
            "    Uninstalling protobuf-4.25.5:\n",
            "      Successfully uninstalled protobuf-4.25.5\n",
            "  Attempting uninstall: opentelemetry-api\n",
            "    Found existing installation: opentelemetry-api 1.28.2\n",
            "    Uninstalling opentelemetry-api-1.28.2:\n",
            "      Successfully uninstalled opentelemetry-api-1.28.2\n",
            "  Attempting uninstall: opentelemetry-semantic-conventions\n",
            "    Found existing installation: opentelemetry-semantic-conventions 0.49b2\n",
            "    Uninstalling opentelemetry-semantic-conventions-0.49b2:\n",
            "      Successfully uninstalled opentelemetry-semantic-conventions-0.49b2\n",
            "  Attempting uninstall: opentelemetry-sdk\n",
            "    Found existing installation: opentelemetry-sdk 1.28.2\n",
            "    Uninstalling opentelemetry-sdk-1.28.2:\n",
            "      Successfully uninstalled opentelemetry-sdk-1.28.2\n",
            "\u001b[31mERROR: pip's dependency resolver does not currently take into account all the packages that are installed. This behaviour is the source of the following dependency conflicts.\n",
            "tensorflow 2.17.1 requires protobuf!=4.21.0,!=4.21.1,!=4.21.2,!=4.21.3,!=4.21.4,!=4.21.5,<5.0.0dev,>=3.20.3, but you have protobuf 5.29.1 which is incompatible.\n",
            "tensorflow-metadata 1.13.1 requires protobuf<5,>=3.20.3, but you have protobuf 5.29.1 which is incompatible.\u001b[0m\u001b[31m\n",
            "\u001b[0mSuccessfully installed logfire-2.7.1 opentelemetry-api-1.29.0 opentelemetry-exporter-otlp-proto-common-1.29.0 opentelemetry-exporter-otlp-proto-http-1.29.0 opentelemetry-instrumentation-0.50b0 opentelemetry-proto-1.29.0 opentelemetry-sdk-1.29.0 opentelemetry-semantic-conventions-0.50b0 protobuf-5.29.1\n",
            "Collecting tavily-python\n",
            "  Downloading tavily_python-0.5.0-py3-none-any.whl.metadata (11 kB)\n",
            "Requirement already satisfied: requests in /usr/local/lib/python3.10/dist-packages (from tavily-python) (2.32.3)\n",
            "Collecting tiktoken>=0.5.1 (from tavily-python)\n",
            "  Downloading tiktoken-0.8.0-cp310-cp310-manylinux_2_17_x86_64.manylinux2014_x86_64.whl.metadata (6.6 kB)\n",
            "Requirement already satisfied: httpx in /usr/local/lib/python3.10/dist-packages (from tavily-python) (0.28.1)\n",
            "Requirement already satisfied: regex>=2022.1.18 in /usr/local/lib/python3.10/dist-packages (from tiktoken>=0.5.1->tavily-python) (2024.9.11)\n",
            "Requirement already satisfied: charset-normalizer<4,>=2 in /usr/local/lib/python3.10/dist-packages (from requests->tavily-python) (3.4.0)\n",
            "Requirement already satisfied: idna<4,>=2.5 in /usr/local/lib/python3.10/dist-packages (from requests->tavily-python) (3.10)\n",
            "Requirement already satisfied: urllib3<3,>=1.21.1 in /usr/local/lib/python3.10/dist-packages (from requests->tavily-python) (2.2.3)\n",
            "Requirement already satisfied: certifi>=2017.4.17 in /usr/local/lib/python3.10/dist-packages (from requests->tavily-python) (2024.8.30)\n",
            "Requirement already satisfied: anyio in /usr/local/lib/python3.10/dist-packages (from httpx->tavily-python) (3.7.1)\n",
            "Requirement already satisfied: httpcore==1.* in /usr/local/lib/python3.10/dist-packages (from httpx->tavily-python) (1.0.7)\n",
            "Requirement already satisfied: h11<0.15,>=0.13 in /usr/local/lib/python3.10/dist-packages (from httpcore==1.*->httpx->tavily-python) (0.14.0)\n",
            "Requirement already satisfied: sniffio>=1.1 in /usr/local/lib/python3.10/dist-packages (from anyio->httpx->tavily-python) (1.3.1)\n",
            "Requirement already satisfied: exceptiongroup in /usr/local/lib/python3.10/dist-packages (from anyio->httpx->tavily-python) (1.2.2)\n",
            "Downloading tavily_python-0.5.0-py3-none-any.whl (14 kB)\n",
            "Downloading tiktoken-0.8.0-cp310-cp310-manylinux_2_17_x86_64.manylinux2014_x86_64.whl (1.2 MB)\n",
            "\u001b[2K   \u001b[90m━━━━━━━━━━━━━━━━━━━━━━━━━━━━━━━━━━━━━━━━\u001b[0m \u001b[32m1.2/1.2 MB\u001b[0m \u001b[31m16.3 MB/s\u001b[0m eta \u001b[36m0:00:00\u001b[0m\n",
            "\u001b[?25hInstalling collected packages: tiktoken, tavily-python\n",
            "Successfully installed tavily-python-0.5.0 tiktoken-0.8.0\n",
            "\u001b[2K   \u001b[90m━━━━━━━━━━━━━━━━━━━━━━━━━━━━━━━━━━━━━━━━\u001b[0m \u001b[32m1.0/1.0 MB\u001b[0m \u001b[31m12.0 MB/s\u001b[0m eta \u001b[36m0:00:00\u001b[0m\n",
            "\u001b[2K   \u001b[90m━━━━━━━━━━━━━━━━━━━━━━━━━━━━━━━━━━━━━━━━\u001b[0m \u001b[32m411.2/411.2 kB\u001b[0m \u001b[31m23.2 MB/s\u001b[0m eta \u001b[36m0:00:00\u001b[0m\n",
            "\u001b[2K   \u001b[90m━━━━━━━━━━━━━━━━━━━━━━━━━━━━━━━━━━━━━━━━\u001b[0m \u001b[32m2.5/2.5 MB\u001b[0m \u001b[31m29.2 MB/s\u001b[0m eta \u001b[36m0:00:00\u001b[0m\n",
            "\u001b[2K   \u001b[90m━━━━━━━━━━━━━━━━━━━━━━━━━━━━━━━━━━━━━━━━\u001b[0m \u001b[32m49.5/49.5 kB\u001b[0m \u001b[31m3.5 MB/s\u001b[0m eta \u001b[36m0:00:00\u001b[0m\n",
            "\u001b[2K   \u001b[90m━━━━━━━━━━━━━━━━━━━━━━━━━━━━━━━━━━━━━━━━\u001b[0m \u001b[32m268.8/268.8 kB\u001b[0m \u001b[31m4.2 MB/s\u001b[0m eta \u001b[36m0:00:00\u001b[0m\n",
            "\u001b[?25hCollecting pypdf\n",
            "  Downloading pypdf-5.1.0-py3-none-any.whl.metadata (7.2 kB)\n",
            "Requirement already satisfied: typing_extensions>=4.0 in /usr/local/lib/python3.10/dist-packages (from pypdf) (4.12.2)\n",
            "Downloading pypdf-5.1.0-py3-none-any.whl (297 kB)\n",
            "\u001b[2K   \u001b[90m━━━━━━━━━━━━━━━━━━━━━━━━━━━━━━━━━━━━━━━━\u001b[0m \u001b[32m298.0/298.0 kB\u001b[0m \u001b[31m4.5 MB/s\u001b[0m eta \u001b[36m0:00:00\u001b[0m\n",
            "\u001b[?25hInstalling collected packages: pypdf\n",
            "Successfully installed pypdf-5.1.0\n"
          ]
        }
      ],
      "source": [
        "%pip -q install pydantic-ai\n",
        "%pip -q install nest_asyncio\n",
        "%pip -q install devtools\n",
        "%pip install 'pydantic-ai-slim[openai,groq,logfire]'\n",
        "%pip install tavily-python\n",
        "%pip install -qU langchain\n",
        "%pip install -qU langchain_community\n",
        "%pip install -qU sentence_transformers\n",
        "%pip install -qU langchain_huggingface\n",
        "%pip install pypdf"
      ]
    },
    {
      "cell_type": "code",
      "source": [
        "from google.colab import userdata\n",
        "import os\n",
        "os.environ[\"OPENAI_API_KEY\"] = userdata.get('OPENAI_API_KEY')\n",
        "os.environ[\"GROQ_API_KEY\"] = userdata.get('GROQ_API_KEY')"
      ],
      "metadata": {
        "id": "KSCZ1ArHJUqn"
      },
      "execution_count": null,
      "outputs": []
    },
    {
      "cell_type": "code",
      "source": [
        "from pydantic_ai import Agent\n",
        "from pydantic_ai.models.openai import OpenAIModel\n",
        "from pydantic_ai.models.groq import GroqModel\n",
        "\n",
        "openai_model = OpenAIModel('gpt-4o-mini')\n",
        "groq_model = GroqModel(\"llama-3.3-70b-versatile\")"
      ],
      "metadata": {
        "id": "9SW2jYQoKRgi"
      },
      "execution_count": null,
      "outputs": []
    },
    {
      "cell_type": "code",
      "source": [
        "!pip install chromadb"
      ],
      "metadata": {
        "colab": {
          "base_uri": "https://localhost:8080/"
        },
        "id": "nKGrsfWvLEYe",
        "outputId": "4ea1767e-38e7-4aba-a61e-d138677a6146"
      },
      "execution_count": null,
      "outputs": [
        {
          "output_type": "stream",
          "name": "stdout",
          "text": [
            "Collecting chromadb\n",
            "  Downloading chromadb-0.5.23-py3-none-any.whl.metadata (6.8 kB)\n",
            "Collecting build>=1.0.3 (from chromadb)\n",
            "  Downloading build-1.2.2.post1-py3-none-any.whl.metadata (6.5 kB)\n",
            "Requirement already satisfied: pydantic>=1.9 in /usr/local/lib/python3.10/dist-packages (from chromadb) (2.10.3)\n",
            "Collecting chroma-hnswlib==0.7.6 (from chromadb)\n",
            "  Downloading chroma_hnswlib-0.7.6-cp310-cp310-manylinux_2_17_x86_64.manylinux2014_x86_64.whl.metadata (252 bytes)\n",
            "Collecting fastapi>=0.95.2 (from chromadb)\n",
            "  Downloading fastapi-0.115.6-py3-none-any.whl.metadata (27 kB)\n",
            "Collecting uvicorn>=0.18.3 (from uvicorn[standard]>=0.18.3->chromadb)\n",
            "  Downloading uvicorn-0.34.0-py3-none-any.whl.metadata (6.5 kB)\n",
            "Requirement already satisfied: numpy>=1.22.5 in /usr/local/lib/python3.10/dist-packages (from chromadb) (1.26.4)\n",
            "Collecting posthog>=2.4.0 (from chromadb)\n",
            "  Downloading posthog-3.7.4-py2.py3-none-any.whl.metadata (2.0 kB)\n",
            "Requirement already satisfied: typing_extensions>=4.5.0 in /usr/local/lib/python3.10/dist-packages (from chromadb) (4.12.2)\n",
            "Collecting onnxruntime>=1.14.1 (from chromadb)\n",
            "  Downloading onnxruntime-1.20.1-cp310-cp310-manylinux_2_27_x86_64.manylinux_2_28_x86_64.whl.metadata (4.5 kB)\n",
            "Requirement already satisfied: opentelemetry-api>=1.2.0 in /usr/local/lib/python3.10/dist-packages (from chromadb) (1.29.0)\n",
            "Collecting opentelemetry-exporter-otlp-proto-grpc>=1.2.0 (from chromadb)\n",
            "  Downloading opentelemetry_exporter_otlp_proto_grpc-1.29.0-py3-none-any.whl.metadata (2.2 kB)\n",
            "Collecting opentelemetry-instrumentation-fastapi>=0.41b0 (from chromadb)\n",
            "  Downloading opentelemetry_instrumentation_fastapi-0.50b0-py3-none-any.whl.metadata (2.1 kB)\n",
            "Requirement already satisfied: opentelemetry-sdk>=1.2.0 in /usr/local/lib/python3.10/dist-packages (from chromadb) (1.29.0)\n",
            "Requirement already satisfied: tokenizers<=0.20.3,>=0.13.2 in /usr/local/lib/python3.10/dist-packages (from chromadb) (0.20.3)\n",
            "Collecting pypika>=0.48.9 (from chromadb)\n",
            "  Downloading PyPika-0.48.9.tar.gz (67 kB)\n",
            "\u001b[2K     \u001b[90m━━━━━━━━━━━━━━━━━━━━━━━━━━━━━━━━━━━━━━━━\u001b[0m \u001b[32m67.3/67.3 kB\u001b[0m \u001b[31m3.2 MB/s\u001b[0m eta \u001b[36m0:00:00\u001b[0m\n",
            "\u001b[?25h  Installing build dependencies ... \u001b[?25l\u001b[?25hdone\n",
            "  Getting requirements to build wheel ... \u001b[?25l\u001b[?25hdone\n",
            "  Preparing metadata (pyproject.toml) ... \u001b[?25l\u001b[?25hdone\n",
            "Requirement already satisfied: tqdm>=4.65.0 in /usr/local/lib/python3.10/dist-packages (from chromadb) (4.66.6)\n",
            "Collecting overrides>=7.3.1 (from chromadb)\n",
            "  Downloading overrides-7.7.0-py3-none-any.whl.metadata (5.8 kB)\n",
            "Requirement already satisfied: importlib-resources in /usr/local/lib/python3.10/dist-packages (from chromadb) (6.4.5)\n",
            "Requirement already satisfied: grpcio>=1.58.0 in /usr/local/lib/python3.10/dist-packages (from chromadb) (1.68.1)\n",
            "Collecting bcrypt>=4.0.1 (from chromadb)\n",
            "  Downloading bcrypt-4.2.1-cp39-abi3-manylinux_2_28_x86_64.whl.metadata (9.8 kB)\n",
            "Requirement already satisfied: typer>=0.9.0 in /usr/local/lib/python3.10/dist-packages (from chromadb) (0.15.1)\n",
            "Collecting kubernetes>=28.1.0 (from chromadb)\n",
            "  Downloading kubernetes-31.0.0-py2.py3-none-any.whl.metadata (1.5 kB)\n",
            "Requirement already satisfied: tenacity>=8.2.3 in /usr/local/lib/python3.10/dist-packages (from chromadb) (9.0.0)\n",
            "Requirement already satisfied: PyYAML>=6.0.0 in /usr/local/lib/python3.10/dist-packages (from chromadb) (6.0.2)\n",
            "Collecting mmh3>=4.0.1 (from chromadb)\n",
            "  Downloading mmh3-5.0.1-cp310-cp310-manylinux_2_5_x86_64.manylinux1_x86_64.manylinux_2_17_x86_64.manylinux2014_x86_64.whl.metadata (14 kB)\n",
            "Requirement already satisfied: orjson>=3.9.12 in /usr/local/lib/python3.10/dist-packages (from chromadb) (3.10.12)\n",
            "Requirement already satisfied: httpx>=0.27.0 in /usr/local/lib/python3.10/dist-packages (from chromadb) (0.28.1)\n",
            "Requirement already satisfied: rich>=10.11.0 in /usr/local/lib/python3.10/dist-packages (from chromadb) (13.9.4)\n",
            "Requirement already satisfied: packaging>=19.1 in /usr/local/lib/python3.10/dist-packages (from build>=1.0.3->chromadb) (24.2)\n",
            "Collecting pyproject_hooks (from build>=1.0.3->chromadb)\n",
            "  Downloading pyproject_hooks-1.2.0-py3-none-any.whl.metadata (1.3 kB)\n",
            "Requirement already satisfied: tomli>=1.1.0 in /usr/local/lib/python3.10/dist-packages (from build>=1.0.3->chromadb) (2.2.1)\n",
            "Collecting starlette<0.42.0,>=0.40.0 (from fastapi>=0.95.2->chromadb)\n",
            "  Downloading starlette-0.41.3-py3-none-any.whl.metadata (6.0 kB)\n",
            "Requirement already satisfied: anyio in /usr/local/lib/python3.10/dist-packages (from httpx>=0.27.0->chromadb) (3.7.1)\n",
            "Requirement already satisfied: certifi in /usr/local/lib/python3.10/dist-packages (from httpx>=0.27.0->chromadb) (2024.8.30)\n",
            "Requirement already satisfied: httpcore==1.* in /usr/local/lib/python3.10/dist-packages (from httpx>=0.27.0->chromadb) (1.0.7)\n",
            "Requirement already satisfied: idna in /usr/local/lib/python3.10/dist-packages (from httpx>=0.27.0->chromadb) (3.10)\n",
            "Requirement already satisfied: h11<0.15,>=0.13 in /usr/local/lib/python3.10/dist-packages (from httpcore==1.*->httpx>=0.27.0->chromadb) (0.14.0)\n",
            "Requirement already satisfied: six>=1.9.0 in /usr/local/lib/python3.10/dist-packages (from kubernetes>=28.1.0->chromadb) (1.17.0)\n",
            "Requirement already satisfied: python-dateutil>=2.5.3 in /usr/local/lib/python3.10/dist-packages (from kubernetes>=28.1.0->chromadb) (2.8.2)\n",
            "Requirement already satisfied: google-auth>=1.0.1 in /usr/local/lib/python3.10/dist-packages (from kubernetes>=28.1.0->chromadb) (2.37.0)\n",
            "Requirement already satisfied: websocket-client!=0.40.0,!=0.41.*,!=0.42.*,>=0.32.0 in /usr/local/lib/python3.10/dist-packages (from kubernetes>=28.1.0->chromadb) (1.8.0)\n",
            "Requirement already satisfied: requests in /usr/local/lib/python3.10/dist-packages (from kubernetes>=28.1.0->chromadb) (2.32.3)\n",
            "Requirement already satisfied: requests-oauthlib in /usr/local/lib/python3.10/dist-packages (from kubernetes>=28.1.0->chromadb) (1.3.1)\n",
            "Requirement already satisfied: oauthlib>=3.2.2 in /usr/local/lib/python3.10/dist-packages (from kubernetes>=28.1.0->chromadb) (3.2.2)\n",
            "Requirement already satisfied: urllib3>=1.24.2 in /usr/local/lib/python3.10/dist-packages (from kubernetes>=28.1.0->chromadb) (2.2.3)\n",
            "Collecting durationpy>=0.7 (from kubernetes>=28.1.0->chromadb)\n",
            "  Downloading durationpy-0.9-py3-none-any.whl.metadata (338 bytes)\n",
            "Collecting coloredlogs (from onnxruntime>=1.14.1->chromadb)\n",
            "  Downloading coloredlogs-15.0.1-py2.py3-none-any.whl.metadata (12 kB)\n",
            "Requirement already satisfied: flatbuffers in /usr/local/lib/python3.10/dist-packages (from onnxruntime>=1.14.1->chromadb) (24.3.25)\n",
            "Requirement already satisfied: protobuf in /usr/local/lib/python3.10/dist-packages (from onnxruntime>=1.14.1->chromadb) (5.29.1)\n",
            "Requirement already satisfied: sympy in /usr/local/lib/python3.10/dist-packages (from onnxruntime>=1.14.1->chromadb) (1.13.1)\n",
            "Requirement already satisfied: deprecated>=1.2.6 in /usr/local/lib/python3.10/dist-packages (from opentelemetry-api>=1.2.0->chromadb) (1.2.15)\n",
            "Requirement already satisfied: importlib-metadata<=8.5.0,>=6.0 in /usr/local/lib/python3.10/dist-packages (from opentelemetry-api>=1.2.0->chromadb) (8.5.0)\n",
            "Requirement already satisfied: googleapis-common-protos~=1.52 in /usr/local/lib/python3.10/dist-packages (from opentelemetry-exporter-otlp-proto-grpc>=1.2.0->chromadb) (1.66.0)\n",
            "Requirement already satisfied: opentelemetry-exporter-otlp-proto-common==1.29.0 in /usr/local/lib/python3.10/dist-packages (from opentelemetry-exporter-otlp-proto-grpc>=1.2.0->chromadb) (1.29.0)\n",
            "Requirement already satisfied: opentelemetry-proto==1.29.0 in /usr/local/lib/python3.10/dist-packages (from opentelemetry-exporter-otlp-proto-grpc>=1.2.0->chromadb) (1.29.0)\n",
            "Collecting opentelemetry-instrumentation-asgi==0.50b0 (from opentelemetry-instrumentation-fastapi>=0.41b0->chromadb)\n",
            "  Downloading opentelemetry_instrumentation_asgi-0.50b0-py3-none-any.whl.metadata (1.9 kB)\n",
            "Requirement already satisfied: opentelemetry-instrumentation==0.50b0 in /usr/local/lib/python3.10/dist-packages (from opentelemetry-instrumentation-fastapi>=0.41b0->chromadb) (0.50b0)\n",
            "Requirement already satisfied: opentelemetry-semantic-conventions==0.50b0 in /usr/local/lib/python3.10/dist-packages (from opentelemetry-instrumentation-fastapi>=0.41b0->chromadb) (0.50b0)\n",
            "Collecting opentelemetry-util-http==0.50b0 (from opentelemetry-instrumentation-fastapi>=0.41b0->chromadb)\n",
            "  Downloading opentelemetry_util_http-0.50b0-py3-none-any.whl.metadata (2.5 kB)\n",
            "Requirement already satisfied: wrapt<2.0.0,>=1.0.0 in /usr/local/lib/python3.10/dist-packages (from opentelemetry-instrumentation==0.50b0->opentelemetry-instrumentation-fastapi>=0.41b0->chromadb) (1.17.0)\n",
            "Collecting asgiref~=3.0 (from opentelemetry-instrumentation-asgi==0.50b0->opentelemetry-instrumentation-fastapi>=0.41b0->chromadb)\n",
            "  Downloading asgiref-3.8.1-py3-none-any.whl.metadata (9.3 kB)\n",
            "Collecting monotonic>=1.5 (from posthog>=2.4.0->chromadb)\n",
            "  Downloading monotonic-1.6-py2.py3-none-any.whl.metadata (1.5 kB)\n",
            "Collecting backoff>=1.10.0 (from posthog>=2.4.0->chromadb)\n",
            "  Downloading backoff-2.2.1-py3-none-any.whl.metadata (14 kB)\n",
            "Requirement already satisfied: annotated-types>=0.6.0 in /usr/local/lib/python3.10/dist-packages (from pydantic>=1.9->chromadb) (0.7.0)\n",
            "Requirement already satisfied: pydantic-core==2.27.1 in /usr/local/lib/python3.10/dist-packages (from pydantic>=1.9->chromadb) (2.27.1)\n",
            "Requirement already satisfied: markdown-it-py>=2.2.0 in /usr/local/lib/python3.10/dist-packages (from rich>=10.11.0->chromadb) (3.0.0)\n",
            "Requirement already satisfied: pygments<3.0.0,>=2.13.0 in /usr/local/lib/python3.10/dist-packages (from rich>=10.11.0->chromadb) (2.18.0)\n",
            "Requirement already satisfied: huggingface-hub<1.0,>=0.16.4 in /usr/local/lib/python3.10/dist-packages (from tokenizers<=0.20.3,>=0.13.2->chromadb) (0.26.5)\n",
            "Requirement already satisfied: click>=8.0.0 in /usr/local/lib/python3.10/dist-packages (from typer>=0.9.0->chromadb) (8.1.7)\n",
            "Requirement already satisfied: shellingham>=1.3.0 in /usr/local/lib/python3.10/dist-packages (from typer>=0.9.0->chromadb) (1.5.4)\n",
            "Collecting httptools>=0.6.3 (from uvicorn[standard]>=0.18.3->chromadb)\n",
            "  Downloading httptools-0.6.4-cp310-cp310-manylinux_2_5_x86_64.manylinux1_x86_64.manylinux_2_17_x86_64.manylinux2014_x86_64.whl.metadata (3.6 kB)\n",
            "Requirement already satisfied: python-dotenv>=0.13 in /usr/local/lib/python3.10/dist-packages (from uvicorn[standard]>=0.18.3->chromadb) (1.0.1)\n",
            "Collecting uvloop!=0.15.0,!=0.15.1,>=0.14.0 (from uvicorn[standard]>=0.18.3->chromadb)\n",
            "  Downloading uvloop-0.21.0-cp310-cp310-manylinux_2_17_x86_64.manylinux2014_x86_64.whl.metadata (4.9 kB)\n",
            "Collecting watchfiles>=0.13 (from uvicorn[standard]>=0.18.3->chromadb)\n",
            "  Downloading watchfiles-1.0.3-cp310-cp310-manylinux_2_17_x86_64.manylinux2014_x86_64.whl.metadata (4.9 kB)\n",
            "Requirement already satisfied: websockets>=10.4 in /usr/local/lib/python3.10/dist-packages (from uvicorn[standard]>=0.18.3->chromadb) (14.1)\n",
            "Requirement already satisfied: cachetools<6.0,>=2.0.0 in /usr/local/lib/python3.10/dist-packages (from google-auth>=1.0.1->kubernetes>=28.1.0->chromadb) (5.5.0)\n",
            "Requirement already satisfied: pyasn1-modules>=0.2.1 in /usr/local/lib/python3.10/dist-packages (from google-auth>=1.0.1->kubernetes>=28.1.0->chromadb) (0.4.1)\n",
            "Requirement already satisfied: rsa<5,>=3.1.4 in /usr/local/lib/python3.10/dist-packages (from google-auth>=1.0.1->kubernetes>=28.1.0->chromadb) (4.9)\n",
            "Requirement already satisfied: filelock in /usr/local/lib/python3.10/dist-packages (from huggingface-hub<1.0,>=0.16.4->tokenizers<=0.20.3,>=0.13.2->chromadb) (3.16.1)\n",
            "Requirement already satisfied: fsspec>=2023.5.0 in /usr/local/lib/python3.10/dist-packages (from huggingface-hub<1.0,>=0.16.4->tokenizers<=0.20.3,>=0.13.2->chromadb) (2024.10.0)\n",
            "Requirement already satisfied: zipp>=3.20 in /usr/local/lib/python3.10/dist-packages (from importlib-metadata<=8.5.0,>=6.0->opentelemetry-api>=1.2.0->chromadb) (3.21.0)\n",
            "Requirement already satisfied: mdurl~=0.1 in /usr/local/lib/python3.10/dist-packages (from markdown-it-py>=2.2.0->rich>=10.11.0->chromadb) (0.1.2)\n",
            "Requirement already satisfied: charset-normalizer<4,>=2 in /usr/local/lib/python3.10/dist-packages (from requests->kubernetes>=28.1.0->chromadb) (3.4.0)\n",
            "Requirement already satisfied: sniffio>=1.1 in /usr/local/lib/python3.10/dist-packages (from anyio->httpx>=0.27.0->chromadb) (1.3.1)\n",
            "Requirement already satisfied: exceptiongroup in /usr/local/lib/python3.10/dist-packages (from anyio->httpx>=0.27.0->chromadb) (1.2.2)\n",
            "Collecting humanfriendly>=9.1 (from coloredlogs->onnxruntime>=1.14.1->chromadb)\n",
            "  Downloading humanfriendly-10.0-py2.py3-none-any.whl.metadata (9.2 kB)\n",
            "Requirement already satisfied: mpmath<1.4,>=1.1.0 in /usr/local/lib/python3.10/dist-packages (from sympy->onnxruntime>=1.14.1->chromadb) (1.3.0)\n",
            "Requirement already satisfied: pyasn1<0.7.0,>=0.4.6 in /usr/local/lib/python3.10/dist-packages (from pyasn1-modules>=0.2.1->google-auth>=1.0.1->kubernetes>=28.1.0->chromadb) (0.6.1)\n",
            "Downloading chromadb-0.5.23-py3-none-any.whl (628 kB)\n",
            "\u001b[2K   \u001b[90m━━━━━━━━━━━━━━━━━━━━━━━━━━━━━━━━━━━━━━━━\u001b[0m \u001b[32m628.3/628.3 kB\u001b[0m \u001b[31m16.5 MB/s\u001b[0m eta \u001b[36m0:00:00\u001b[0m\n",
            "\u001b[?25hDownloading chroma_hnswlib-0.7.6-cp310-cp310-manylinux_2_17_x86_64.manylinux2014_x86_64.whl (2.4 MB)\n",
            "\u001b[2K   \u001b[90m━━━━━━━━━━━━━━━━━━━━━━━━━━━━━━━━━━━━━━━━\u001b[0m \u001b[32m2.4/2.4 MB\u001b[0m \u001b[31m54.4 MB/s\u001b[0m eta \u001b[36m0:00:00\u001b[0m\n",
            "\u001b[?25hDownloading bcrypt-4.2.1-cp39-abi3-manylinux_2_28_x86_64.whl (278 kB)\n",
            "\u001b[2K   \u001b[90m━━━━━━━━━━━━━━━━━━━━━━━━━━━━━━━━━━━━━━━━\u001b[0m \u001b[32m278.6/278.6 kB\u001b[0m \u001b[31m18.4 MB/s\u001b[0m eta \u001b[36m0:00:00\u001b[0m\n",
            "\u001b[?25hDownloading build-1.2.2.post1-py3-none-any.whl (22 kB)\n",
            "Downloading fastapi-0.115.6-py3-none-any.whl (94 kB)\n",
            "\u001b[2K   \u001b[90m━━━━━━━━━━━━━━━━━━━━━━━━━━━━━━━━━━━━━━━━\u001b[0m \u001b[32m94.8/94.8 kB\u001b[0m \u001b[31m7.0 MB/s\u001b[0m eta \u001b[36m0:00:00\u001b[0m\n",
            "\u001b[?25hDownloading kubernetes-31.0.0-py2.py3-none-any.whl (1.9 MB)\n",
            "\u001b[2K   \u001b[90m━━━━━━━━━━━━━━━━━━━━━━━━━━━━━━━━━━━━━━━━\u001b[0m \u001b[32m1.9/1.9 MB\u001b[0m \u001b[31m65.6 MB/s\u001b[0m eta \u001b[36m0:00:00\u001b[0m\n",
            "\u001b[?25hDownloading mmh3-5.0.1-cp310-cp310-manylinux_2_5_x86_64.manylinux1_x86_64.manylinux_2_17_x86_64.manylinux2014_x86_64.whl (93 kB)\n",
            "\u001b[2K   \u001b[90m━━━━━━━━━━━━━━━━━━━━━━━━━━━━━━━━━━━━━━━━\u001b[0m \u001b[32m93.2/93.2 kB\u001b[0m \u001b[31m6.9 MB/s\u001b[0m eta \u001b[36m0:00:00\u001b[0m\n",
            "\u001b[?25hDownloading onnxruntime-1.20.1-cp310-cp310-manylinux_2_27_x86_64.manylinux_2_28_x86_64.whl (13.3 MB)\n",
            "\u001b[2K   \u001b[90m━━━━━━━━━━━━━━━━━━━━━━━━━━━━━━━━━━━━━━━━\u001b[0m \u001b[32m13.3/13.3 MB\u001b[0m \u001b[31m85.5 MB/s\u001b[0m eta \u001b[36m0:00:00\u001b[0m\n",
            "\u001b[?25hDownloading opentelemetry_exporter_otlp_proto_grpc-1.29.0-py3-none-any.whl (18 kB)\n",
            "Downloading opentelemetry_instrumentation_fastapi-0.50b0-py3-none-any.whl (12 kB)\n",
            "Downloading opentelemetry_instrumentation_asgi-0.50b0-py3-none-any.whl (16 kB)\n",
            "Downloading opentelemetry_util_http-0.50b0-py3-none-any.whl (6.9 kB)\n",
            "Downloading overrides-7.7.0-py3-none-any.whl (17 kB)\n",
            "Downloading posthog-3.7.4-py2.py3-none-any.whl (54 kB)\n",
            "\u001b[2K   \u001b[90m━━━━━━━━━━━━━━━━━━━━━━━━━━━━━━━━━━━━━━━━\u001b[0m \u001b[32m54.8/54.8 kB\u001b[0m \u001b[31m4.0 MB/s\u001b[0m eta \u001b[36m0:00:00\u001b[0m\n",
            "\u001b[?25hDownloading uvicorn-0.34.0-py3-none-any.whl (62 kB)\n",
            "\u001b[2K   \u001b[90m━━━━━━━━━━━━━━━━━━━━━━━━━━━━━━━━━━━━━━━━\u001b[0m \u001b[32m62.3/62.3 kB\u001b[0m \u001b[31m5.0 MB/s\u001b[0m eta \u001b[36m0:00:00\u001b[0m\n",
            "\u001b[?25hDownloading backoff-2.2.1-py3-none-any.whl (15 kB)\n",
            "Downloading durationpy-0.9-py3-none-any.whl (3.5 kB)\n",
            "Downloading httptools-0.6.4-cp310-cp310-manylinux_2_5_x86_64.manylinux1_x86_64.manylinux_2_17_x86_64.manylinux2014_x86_64.whl (442 kB)\n",
            "\u001b[2K   \u001b[90m━━━━━━━━━━━━━━━━━━━━━━━━━━━━━━━━━━━━━━━━\u001b[0m \u001b[32m442.1/442.1 kB\u001b[0m \u001b[31m26.4 MB/s\u001b[0m eta \u001b[36m0:00:00\u001b[0m\n",
            "\u001b[?25hDownloading monotonic-1.6-py2.py3-none-any.whl (8.2 kB)\n",
            "Downloading starlette-0.41.3-py3-none-any.whl (73 kB)\n",
            "\u001b[2K   \u001b[90m━━━━━━━━━━━━━━━━━━━━━━━━━━━━━━━━━━━━━━━━\u001b[0m \u001b[32m73.2/73.2 kB\u001b[0m \u001b[31m5.7 MB/s\u001b[0m eta \u001b[36m0:00:00\u001b[0m\n",
            "\u001b[?25hDownloading uvloop-0.21.0-cp310-cp310-manylinux_2_17_x86_64.manylinux2014_x86_64.whl (3.8 MB)\n",
            "\u001b[2K   \u001b[90m━━━━━━━━━━━━━━━━━━━━━━━━━━━━━━━━━━━━━━━━\u001b[0m \u001b[32m3.8/3.8 MB\u001b[0m \u001b[31m67.2 MB/s\u001b[0m eta \u001b[36m0:00:00\u001b[0m\n",
            "\u001b[?25hDownloading watchfiles-1.0.3-cp310-cp310-manylinux_2_17_x86_64.manylinux2014_x86_64.whl (443 kB)\n",
            "\u001b[2K   \u001b[90m━━━━━━━━━━━━━━━━━━━━━━━━━━━━━━━━━━━━━━━━\u001b[0m \u001b[32m443.8/443.8 kB\u001b[0m \u001b[31m29.3 MB/s\u001b[0m eta \u001b[36m0:00:00\u001b[0m\n",
            "\u001b[?25hDownloading coloredlogs-15.0.1-py2.py3-none-any.whl (46 kB)\n",
            "\u001b[2K   \u001b[90m━━━━━━━━━━━━━━━━━━━━━━━━━━━━━━━━━━━━━━━━\u001b[0m \u001b[32m46.0/46.0 kB\u001b[0m \u001b[31m3.1 MB/s\u001b[0m eta \u001b[36m0:00:00\u001b[0m\n",
            "\u001b[?25hDownloading pyproject_hooks-1.2.0-py3-none-any.whl (10 kB)\n",
            "Downloading asgiref-3.8.1-py3-none-any.whl (23 kB)\n",
            "Downloading humanfriendly-10.0-py2.py3-none-any.whl (86 kB)\n",
            "\u001b[2K   \u001b[90m━━━━━━━━━━━━━━━━━━━━━━━━━━━━━━━━━━━━━━━━\u001b[0m \u001b[32m86.8/86.8 kB\u001b[0m \u001b[31m5.8 MB/s\u001b[0m eta \u001b[36m0:00:00\u001b[0m\n",
            "\u001b[?25hBuilding wheels for collected packages: pypika\n",
            "  Building wheel for pypika (pyproject.toml) ... \u001b[?25l\u001b[?25hdone\n",
            "  Created wheel for pypika: filename=PyPika-0.48.9-py2.py3-none-any.whl size=53725 sha256=a77da12ad4c0e6dd0fb0dac64c046e074a1a5df5012d98b6c5514d7891e56a1b\n",
            "  Stored in directory: /root/.cache/pip/wheels/e1/26/51/d0bffb3d2fd82256676d7ad3003faea3bd6dddc9577af665f4\n",
            "Successfully built pypika\n",
            "Installing collected packages: pypika, monotonic, durationpy, uvloop, uvicorn, pyproject_hooks, overrides, opentelemetry-util-http, mmh3, humanfriendly, httptools, chroma-hnswlib, bcrypt, backoff, asgiref, watchfiles, starlette, posthog, coloredlogs, build, onnxruntime, kubernetes, fastapi, opentelemetry-instrumentation-asgi, opentelemetry-exporter-otlp-proto-grpc, opentelemetry-instrumentation-fastapi, chromadb\n",
            "Successfully installed asgiref-3.8.1 backoff-2.2.1 bcrypt-4.2.1 build-1.2.2.post1 chroma-hnswlib-0.7.6 chromadb-0.5.23 coloredlogs-15.0.1 durationpy-0.9 fastapi-0.115.6 httptools-0.6.4 humanfriendly-10.0 kubernetes-31.0.0 mmh3-5.0.1 monotonic-1.6 onnxruntime-1.20.1 opentelemetry-exporter-otlp-proto-grpc-1.29.0 opentelemetry-instrumentation-asgi-0.50b0 opentelemetry-instrumentation-fastapi-0.50b0 opentelemetry-util-http-0.50b0 overrides-7.7.0 posthog-3.7.4 pypika-0.48.9 pyproject_hooks-1.2.0 starlette-0.41.3 uvicorn-0.34.0 uvloop-0.21.0 watchfiles-1.0.3\n"
          ]
        }
      ]
    },
    {
      "cell_type": "code",
      "source": [
        "from langchain_community.vectorstores import Chroma\n",
        "from langchain_community.embeddings import HuggingFaceEmbeddings\n",
        "from langchain.document_loaders import PyPDFLoader\n",
        "from langchain.text_splitter import RecursiveCharacterTextSplitter\n",
        "#\n",
        "loader = PyPDFLoader(\"Fibro-Fact-Sheet.pdf\")\n",
        "documents = loader.load()\n",
        "#\n",
        "split_docs = RecursiveCharacterTextSplitter(chunk_size=500, chunk_overlap=50).split_documents(documents)\n",
        "#\n",
        "#embeddings\n",
        "embedding = HuggingFaceEmbeddings(model_name=\"sentence-transformers/all-MiniLM-L6-v2\")\n",
        "#\n",
        "#Build Index\n",
        "vectorstore = Chroma.from_documents(\n",
        "    documents=split_docs,\n",
        "    embedding=embedding,\n",
        "    persist_directory=persist_directory,\n",
        "    collection_name=\"fibromyalgia\"\n",
        ")"
      ],
      "metadata": {
        "id": "mY37ixyGKTtB"
      },
      "execution_count": null,
      "outputs": []
    },
    {
      "cell_type": "code",
      "source": [
        "from dataclasses import dataclass\n",
        "@dataclass\n",
        "class Deps:\n",
        "    question:str |None\n",
        "    context:str |None"
      ],
      "metadata": {
        "id": "1-JWh68AKsow"
      },
      "execution_count": null,
      "outputs": []
    },
    {
      "cell_type": "code",
      "source": [
        "import nest_asyncio\n",
        "nest_asyncio.apply()\n",
        "#\n",
        "groq_agent = Agent(groq_model,\n",
        "                   deps_type=Deps,\n",
        "                    retries=2,\n",
        "                    result_type=str,\n",
        "                   system_prompt=(\"You are a Helpful Assiatnt Profiocient in Answering concise,factful and to the point asnwers for questions asked based on the Context provided\"\n",
        "                   \"You have to Use the `retrievre_tool' to get relevent context and generate response based on the context retrieved\"\n",
        "                   \"\"\"You are a grading assistant. Evaluate the response based on:\n",
        "        1. Relevancy to the question\n",
        "        2. Faithfulness to the context\n",
        "        3. Context quality and completeness\n",
        "\n",
        "        lease grade the following response based on:\n",
        "        1. Relevancy (0-1): How well does it answer the question?\n",
        "        2. Faithfulness (0-1): How well does it stick to the provided context?\n",
        "        3. Context Quality (0-1): How complete and relevant is the provided context?\n",
        "\n",
        "        Question: {ctx.deps.query}\n",
        "        Context: {ctx.deps.context}\n",
        "        Response: {ctx.deps.response}\n",
        "\n",
        "        Also determine if web search is needed to augment the context.\n",
        "\n",
        "        Provide the grades and explanation in the JSON format with key atrributes 'Relevancy','Faithfulness','Context Quality','Needs Web Search':\n",
        "        {\"Relevancy\": <score>,\n",
        "        \"Faithfulness\": <score>,\n",
        "        \"Context Quality\": <score>,\n",
        "        \"Needs Web Search\": <true/false>,\n",
        "        \"Explanation\": <explanation>,\n",
        "        \"Answer\":<provide response based on the context from the `retrievre_tool' if 'Need Web Search' value is 'false' otherwise Use the `websearch_tool` function to generate the final reaponse}\"\"\"\n",
        "        ),\n",
        "        )"
      ],
      "metadata": {
        "id": "BahcLe_6LR78"
      },
      "execution_count": null,
      "outputs": []
    },
    {
      "cell_type": "code",
      "source": [
        "@groq_agent.tool_plain\n",
        "async def websearch_tool(question) -> str:\n",
        "    \"\"\"check if the square is a winner\"\"\"\n",
        "    # Step 1. Instantiating your TavilyClient\n",
        "    tavily_client = TavilyClient()\n",
        "\n",
        "    # Step 2. Executing a Q&A search query\n",
        "    answer = tavily_client.qna_search(query=question)\n",
        "\n",
        "    # Step 3. That's it! Your question has been answered!\n",
        "    print(f\"WEB SEARCH:{answer}\")\n",
        "    return answer\n"
      ],
      "metadata": {
        "id": "W1Zfda2ILZI2"
      },
      "execution_count": null,
      "outputs": []
    },
    {
      "cell_type": "code",
      "source": [
        "from typing import List # Import List from typing\n",
        "\n",
        "from pydantic_ai import Agent, RunContext # Import RunContext from pydantic_ai\n",
        "from pydantic_ai.models.openai import OpenAIModel\n",
        "from pydantic_ai.models.groq import GroqModel\n",
        "\n",
        "\n",
        "\n",
        "@groq_agent.tool\n",
        "async def rertiever_tool(ctx: RunContext[Deps], question: str) -> List[str]: # Use List in type hint\n",
        "\n",
        "\n",
        "  load_vectorstore = Chroma(persist_directory=persist_directory, embedding_function=embedding,collection_name=\"fibromyalgia\")\n",
        "  docs = load_vectorstore.similarity_search(question,k=3)\n",
        "  documnets = [d.page_content for d in docs]\n",
        "  print(f\"RAG Retrieval:{documnets}\")\n",
        "  return documnets"
      ],
      "metadata": {
        "id": "EyA3_-SxLgLB"
      },
      "execution_count": null,
      "outputs": []
    },
    {
      "cell_type": "code",
      "source": [
        "query = \"What is Fibromyalgia?\"\n",
        "response = groq_agent.run_sync(query)\n",
        "print(response)"
      ],
      "metadata": {
        "colab": {
          "base_uri": "https://localhost:8080/"
        },
        "id": "BtiM-tySL3RT",
        "outputId": "bcb808f9-dd69-4299-e22f-7f4ef9247f6f"
      },
      "execution_count": null,
      "outputs": [
        {
          "output_type": "stream",
          "name": "stderr",
          "text": [
            "/usr/local/lib/python3.10/dist-packages/logfire/_internal/stack_info.py:107: LogfireNotConfiguredWarning: No logs or spans will be created until `logfire.configure()` has been called. Set the environment variable LOGFIRE_IGNORE_NO_CONFIG=1 or add ignore_no_config=true in pyproject.toml to suppress this warning.\n",
            "  warnings.warn(msg, stacklevel=stacklevel, category=category)\n",
            "<ipython-input-14-51cc9b779639>:13: LangChainDeprecationWarning: The class `Chroma` was deprecated in LangChain 0.2.9 and will be removed in 1.0. An updated version of the class exists in the :class:`~langchain-chroma package and should be used instead. To use it run `pip install -U :class:`~langchain-chroma` and import as `from :class:`~langchain_chroma import Chroma``.\n",
            "  load_vectorstore = Chroma(persist_directory=persist_directory, embedding_function=embedding,collection_name=\"fibromyalgia\")\n"
          ]
        },
        {
          "output_type": "stream",
          "name": "stdout",
          "text": [
            "RAG Retrieval:['symptoms affecting various body parts and functions. \\nFrom muscle pain to sleep disturbances and anxiety, \\nhere are some common symptoms.\\nPain – Widespread musculoskeletal pain is the most \\ncommon symptom of fibromyalgia. It generally occurs at \\nmultiple sites throughout the body, although it may start \\nin one region, such as the shoulders, and later occur in \\nother areas over time.\\nFatigue – Most people with fibromyalgia have fatigue, \\ndecreased endurance or the kind of exhaustion felt with', 'About Fibromyalgia\\nFibromyalgia is a condition in which the main symptoms \\nare widespread chronic pain and fatigue. The condition \\nis considered a rheumatic disease like many forms of \\narth ritis. But there are key differences. Fibromyalgia does \\nnot cause inflammation or damage joints or muscles. \\nFibromyalgia is not life-threatening but can affect \\nmany aspects of daily life. It can occur by itself but may \\nalso affect people with other forms of arthritis or chronic', 'for fibromyalgia at arthritis.org/drug-guide.) \\nNondrug therapies may include biofeedback, acu-\\npuncture, cognitive behavioral therapy, stress manage-\\nment or hydrotherapy.\\nThe information in this fact sheet was reviewed by Daniel Clauw, MD, University of Michigan, 20 18\\nFAQ\\nWhat’s\\tthe\\tdifference\\tbetween\\tfibro-\\nmyalgia and chronic fatigue syndrome \\n(CFS)? The conditions are similar and likely \\nrelated. What differentiates them is that while \\nfibromyalgia’s primary symptom is pain, CFS’s']\n",
            "RunResult(_all_messages=[SystemPrompt(content='You are a Helpful Assiatnt Profiocient in Answering concise,factful and to the point asnwers for questions asked based on the Context providedYou have to Use the `retrievre_tool\\' to get relevent context and generate response based on the context retrievedYou are a grading assistant. Evaluate the response based on:\\n        1. Relevancy to the question\\n        2. Faithfulness to the context\\n        3. Context quality and completeness\\n        \\n        lease grade the following response based on:\\n        1. Relevancy (0-1): How well does it answer the question?\\n        2. Faithfulness (0-1): How well does it stick to the provided context?\\n        3. Context Quality (0-1): How complete and relevant is the provided context?\\n        \\n        Question: {ctx.deps.query}\\n        Context: {ctx.deps.context}\\n        Response: {ctx.deps.response}\\n        \\n        Also determine if web search is needed to augment the context.\\n        \\n        Provide the grades and explanation in the JSON format with key atrributes \\'Relevancy\\',\\'Faithfulness\\',\\'Context Quality\\',\\'Needs Web Search\\':\\n        {\"Relevancy\": <score>,\\n        \"Faithfulness\": <score>,\\n        \"Context Quality\": <score>,\\n        \"Needs Web Search\": <true/false>,\\n        \"Explanation\": <explanation>,\\n        \"Answer\":<provide response based on the context from the `retrievre_tool\\' if \\'Need Web Search\\' value is \\'false\\' otherwise Use the `websearch_tool` function to generate the final reaponse}', role='system'), UserPrompt(content='What is Fibromyalgia?', timestamp=datetime.datetime(2024, 12, 16, 11, 18, 11, 9579, tzinfo=datetime.timezone.utc), role='user'), ModelStructuredResponse(calls=[ToolCall(tool_name='rertiever_tool', args=ArgsJson(args_json='{\"question\": \"Fibromyalgia definition\"}'), tool_id='call_49jp')], timestamp=datetime.datetime(2024, 12, 16, 11, 18, 11, tzinfo=datetime.timezone.utc), role='model-structured-response'), ToolReturn(tool_name='rertiever_tool', content=['symptoms affecting various body parts and functions. \\nFrom muscle pain to sleep disturbances and anxiety, \\nhere are some common symptoms.\\nPain – Widespread musculoskeletal pain is the most \\ncommon symptom of fibromyalgia. It generally occurs at \\nmultiple sites throughout the body, although it may start \\nin one region, such as the shoulders, and later occur in \\nother areas over time.\\nFatigue – Most people with fibromyalgia have fatigue, \\ndecreased endurance or the kind of exhaustion felt with', 'About Fibromyalgia\\nFibromyalgia is a condition in which the main symptoms \\nare widespread chronic pain and fatigue. The condition \\nis considered a rheumatic disease like many forms of \\narth ritis. But there are key differences. Fibromyalgia does \\nnot cause inflammation or damage joints or muscles. \\nFibromyalgia is not life-threatening but can affect \\nmany aspects of daily life. It can occur by itself but may \\nalso affect people with other forms of arthritis or chronic', 'for fibromyalgia at arthritis.org/drug-guide.) \\nNondrug therapies may include biofeedback, acu-\\npuncture, cognitive behavioral therapy, stress manage-\\nment or hydrotherapy.\\nThe information in this fact sheet was reviewed by Daniel Clauw, MD, University of Michigan, 20 18\\nFAQ\\nWhat’s\\tthe\\tdifference\\tbetween\\tfibro-\\nmyalgia and chronic fatigue syndrome \\n(CFS)? The conditions are similar and likely \\nrelated. What differentiates them is that while \\nfibromyalgia’s primary symptom is pain, CFS’s'], tool_id='call_49jp', timestamp=datetime.datetime(2024, 12, 16, 11, 18, 11, 621108, tzinfo=datetime.timezone.utc), role='tool-return'), ModelTextResponse(content='{\"Relevancy\": 0.8, \\n\"Faithfulness\": 0.9, \\n\"Context Quality\": 0.7, \\n\"Needs Web Search\": false, \\n\"Explanation\": \"The provided context from the `retrievre_tool` is relevant to the question and provides a good overview of fibromyalgia, including its symptoms and treatment options. However, the context quality could be improved with more concise and organized information.\", \\n\"Answer\": \"Fibromyalgia is a condition characterized by widespread chronic pain and fatigue, affecting various body parts and functions. It is considered a rheumatic disease but does not cause inflammation or damage to joints or muscles. Symptoms include pain, fatigue, sleep disturbances, and anxiety, and treatment options may include medication, nondrug therapies like biofeedback and cognitive behavioral therapy, and stress management.\"}', timestamp=datetime.datetime(2024, 12, 16, 11, 18, 11, tzinfo=datetime.timezone.utc), role='model-text-response')], _new_message_index=1, data='{\"Relevancy\": 0.8, \\n\"Faithfulness\": 0.9, \\n\"Context Quality\": 0.7, \\n\"Needs Web Search\": false, \\n\"Explanation\": \"The provided context from the `retrievre_tool` is relevant to the question and provides a good overview of fibromyalgia, including its symptoms and treatment options. However, the context quality could be improved with more concise and organized information.\", \\n\"Answer\": \"Fibromyalgia is a condition characterized by widespread chronic pain and fatigue, affecting various body parts and functions. It is considered a rheumatic disease but does not cause inflammation or damage to joints or muscles. Symptoms include pain, fatigue, sleep disturbances, and anxiety, and treatment options may include medication, nondrug therapies like biofeedback and cognitive behavioral therapy, and stress management.\"}', _cost=Cost(request_tokens=1627, response_tokens=197, total_tokens=1824, details=None))\n"
          ]
        }
      ]
    },
    {
      "cell_type": "code",
      "source": [
        "response.data"
      ],
      "metadata": {
        "colab": {
          "base_uri": "https://localhost:8080/",
          "height": 226
        },
        "id": "D4aBf7aaMLbt",
        "outputId": "e1da4d5b-22cd-4974-d8aa-2deca5dfca91"
      },
      "execution_count": null,
      "outputs": [
        {
          "output_type": "execute_result",
          "data": {
            "text/plain": [
              "'{\"Relevancy\": 0.8, \\n\"Faithfulness\": 0.9, \\n\"Context Quality\": 0.7, \\n\"Needs Web Search\": false, \\n\"Explanation\": \"The provided context from the `retrievre_tool` is relevant to the question and provides a good overview of fibromyalgia, including its symptoms and treatment options. However, the context quality could be improved with more concise and organized information.\", \\n\"Answer\": \"Fibromyalgia is a condition characterized by widespread chronic pain and fatigue, affecting various body parts and functions. It is considered a rheumatic disease but does not cause inflammation or damage to joints or muscles. Symptoms include pain, fatigue, sleep disturbances, and anxiety, and treatment options may include medication, nondrug therapies like biofeedback and cognitive behavioral therapy, and stress management.\"}'"
            ],
            "application/vnd.google.colaboratory.intrinsic+json": {
              "type": "string"
            }
          },
          "metadata": {},
          "execution_count": 19
        }
      ]
    },
    {
      "cell_type": "code",
      "source": [
        "response.cost()\n"
      ],
      "metadata": {
        "colab": {
          "base_uri": "https://localhost:8080/"
        },
        "id": "NdFkneTpMPks",
        "outputId": "f862aae2-d5e1-4d61-be22-0a33cac3d2c1"
      },
      "execution_count": null,
      "outputs": [
        {
          "output_type": "execute_result",
          "data": {
            "text/plain": [
              "Cost(request_tokens=1627, response_tokens=197, total_tokens=1824, details=None)"
            ]
          },
          "metadata": {},
          "execution_count": 20
        }
      ]
    },
    {
      "cell_type": "code",
      "source": [
        "query = \"What is Fibromyalgia and what are it's causes?\"\n",
        "response = groq_agent.run_sync(query)\n",
        "print(response)"
      ],
      "metadata": {
        "colab": {
          "base_uri": "https://localhost:8080/"
        },
        "id": "AXvhY021MT9_",
        "outputId": "935b6766-6c6b-4e08-ccb0-448e85daeb45"
      },
      "execution_count": null,
      "outputs": [
        {
          "output_type": "stream",
          "name": "stdout",
          "text": [
            "RAG Retrieval:['symptoms affecting various body parts and functions. \\nFrom muscle pain to sleep disturbances and anxiety, \\nhere are some common symptoms.\\nPain – Widespread musculoskeletal pain is the most \\ncommon symptom of fibromyalgia. It generally occurs at \\nmultiple sites throughout the body, although it may start \\nin one region, such as the shoulders, and later occur in \\nother areas over time.\\nFatigue – Most people with fibromyalgia have fatigue, \\ndecreased endurance or the kind of exhaustion felt with', 'conditions. The good news is that it’s not considered a \\nprogressive disease. With proper treatment and lifestyle \\nchanges, symptoms can improve.\\nDoctors don’t know what causes fibromyalgia, but \\nit most likely involves various factors and/or triggers \\nworking together. These may include genes, infections \\nor illnesses and physical or emotional trauma. \\nSigns and Symptoms of Fibromyalgia \\nFibromyalgia has been described as a constellation of', 'Arthritis Fact Sheet Fibromyalgia\\nMood and Concentration Problems – Feeling sad \\nor being down is common. People with fibromyalgia \\nalso may feel anxious and have difficulty concentrating \\nor performing simple mental tasks. These problems tend \\nto come and go and are often most prominent at times \\nof extreme fatigue or anxiety. Some people with fibro-\\nmyalgia have depression.\\nOther Problems – Headaches, jaw pain, abdominal \\nor pelvic pain, dizziness, restless legs and numbness or']\n",
            "RunResult(_all_messages=[SystemPrompt(content='You are a Helpful Assiatnt Profiocient in Answering concise,factful and to the point asnwers for questions asked based on the Context providedYou have to Use the `retrievre_tool\\' to get relevent context and generate response based on the context retrievedYou are a grading assistant. Evaluate the response based on:\\n        1. Relevancy to the question\\n        2. Faithfulness to the context\\n        3. Context quality and completeness\\n        \\n        lease grade the following response based on:\\n        1. Relevancy (0-1): How well does it answer the question?\\n        2. Faithfulness (0-1): How well does it stick to the provided context?\\n        3. Context Quality (0-1): How complete and relevant is the provided context?\\n        \\n        Question: {ctx.deps.query}\\n        Context: {ctx.deps.context}\\n        Response: {ctx.deps.response}\\n        \\n        Also determine if web search is needed to augment the context.\\n        \\n        Provide the grades and explanation in the JSON format with key atrributes \\'Relevancy\\',\\'Faithfulness\\',\\'Context Quality\\',\\'Needs Web Search\\':\\n        {\"Relevancy\": <score>,\\n        \"Faithfulness\": <score>,\\n        \"Context Quality\": <score>,\\n        \"Needs Web Search\": <true/false>,\\n        \"Explanation\": <explanation>,\\n        \"Answer\":<provide response based on the context from the `retrievre_tool\\' if \\'Need Web Search\\' value is \\'false\\' otherwise Use the `websearch_tool` function to generate the final reaponse}', role='system'), UserPrompt(content=\"What is Fibromyalgia and what are it's causes?\", timestamp=datetime.datetime(2024, 12, 16, 11, 18, 53, 610085, tzinfo=datetime.timezone.utc), role='user'), ModelStructuredResponse(calls=[ToolCall(tool_name='rertiever_tool', args=ArgsJson(args_json='{\"question\": \"Fibromyalgia causes\"}'), tool_id='call_dw31')], timestamp=datetime.datetime(2024, 12, 16, 11, 18, 53, tzinfo=datetime.timezone.utc), role='model-structured-response'), ToolReturn(tool_name='rertiever_tool', content=['symptoms affecting various body parts and functions. \\nFrom muscle pain to sleep disturbances and anxiety, \\nhere are some common symptoms.\\nPain – Widespread musculoskeletal pain is the most \\ncommon symptom of fibromyalgia. It generally occurs at \\nmultiple sites throughout the body, although it may start \\nin one region, such as the shoulders, and later occur in \\nother areas over time.\\nFatigue – Most people with fibromyalgia have fatigue, \\ndecreased endurance or the kind of exhaustion felt with', 'conditions. The good news is that it’s not considered a \\nprogressive disease. With proper treatment and lifestyle \\nchanges, symptoms can improve.\\nDoctors don’t know what causes fibromyalgia, but \\nit most likely involves various factors and/or triggers \\nworking together. These may include genes, infections \\nor illnesses and physical or emotional trauma. \\nSigns and Symptoms of Fibromyalgia \\nFibromyalgia has been described as a constellation of', 'Arthritis Fact Sheet Fibromyalgia\\nMood and Concentration Problems – Feeling sad \\nor being down is common. People with fibromyalgia \\nalso may feel anxious and have difficulty concentrating \\nor performing simple mental tasks. These problems tend \\nto come and go and are often most prominent at times \\nof extreme fatigue or anxiety. Some people with fibro-\\nmyalgia have depression.\\nOther Problems – Headaches, jaw pain, abdominal \\nor pelvic pain, dizziness, restless legs and numbness or'], tool_id='call_dw31', timestamp=datetime.datetime(2024, 12, 16, 11, 18, 53, 999680, tzinfo=datetime.timezone.utc), role='tool-return'), ModelTextResponse(content='{\"Relevancy\": 0.8, \\n\"Faithfulness\": 0.9, \\n\"Context Quality\": 0.7, \\n\"Needs Web Search\": false, \\n\"Explanation\": \"The provided context from the retriever tool provides a good overview of fibromyalgia, including its symptoms and potential causes. However, the context is not exhaustive and some information is missing, such as specific details about the causes and treatment options.\", \\n\"Answer\": \"Fibromyalgia is a chronic condition characterized by widespread musculoskeletal pain, fatigue, and other symptoms such as sleep disturbances, anxiety, and mood and concentration problems. The exact causes of fibromyalgia are not fully understood, but it is believed to involve a combination of genetic, environmental, and psychological factors, including infections or illnesses, physical or emotional trauma, and changes in brain chemistry.\"}', timestamp=datetime.datetime(2024, 12, 16, 11, 18, 54, tzinfo=datetime.timezone.utc), role='model-text-response')], _new_message_index=1, data='{\"Relevancy\": 0.8, \\n\"Faithfulness\": 0.9, \\n\"Context Quality\": 0.7, \\n\"Needs Web Search\": false, \\n\"Explanation\": \"The provided context from the retriever tool provides a good overview of fibromyalgia, including its symptoms and potential causes. However, the context is not exhaustive and some information is missing, such as specific details about the causes and treatment options.\", \\n\"Answer\": \"Fibromyalgia is a chronic condition characterized by widespread musculoskeletal pain, fatigue, and other symptoms such as sleep disturbances, anxiety, and mood and concentration problems. The exact causes of fibromyalgia are not fully understood, but it is believed to involve a combination of genetic, environmental, and psychological factors, including infections or illnesses, physical or emotional trauma, and changes in brain chemistry.\"}', _cost=Cost(request_tokens=1610, response_tokens=202, total_tokens=1812, details=None))\n"
          ]
        }
      ]
    },
    {
      "cell_type": "code",
      "source": [
        "from langchain_core.output_parsers import JsonOutputParser\n",
        "print(response.data)\n",
        "parser = JsonOutputParser()\n",
        "print(parser.parse(response.data))\n",
        "print(parser.parse(response.data)['Answer'])\n",
        "print(response.cost())"
      ],
      "metadata": {
        "colab": {
          "base_uri": "https://localhost:8080/"
        },
        "id": "UEjizZr6MVsI",
        "outputId": "47d72736-ee43-42ac-c6e1-76968399a819"
      },
      "execution_count": null,
      "outputs": [
        {
          "output_type": "stream",
          "name": "stdout",
          "text": [
            "{\"Relevancy\": 0.8, \n",
            "\"Faithfulness\": 0.9, \n",
            "\"Context Quality\": 0.7, \n",
            "\"Needs Web Search\": false, \n",
            "\"Explanation\": \"The provided context from the retriever tool provides a good overview of fibromyalgia, including its symptoms and potential causes. However, the context is not exhaustive and some information is missing, such as specific details about the causes and treatment options.\", \n",
            "\"Answer\": \"Fibromyalgia is a chronic condition characterized by widespread musculoskeletal pain, fatigue, and other symptoms such as sleep disturbances, anxiety, and mood and concentration problems. The exact causes of fibromyalgia are not fully understood, but it is believed to involve a combination of genetic, environmental, and psychological factors, including infections or illnesses, physical or emotional trauma, and changes in brain chemistry.\"}\n",
            "{'Relevancy': 0.8, 'Faithfulness': 0.9, 'Context Quality': 0.7, 'Needs Web Search': False, 'Explanation': 'The provided context from the retriever tool provides a good overview of fibromyalgia, including its symptoms and potential causes. However, the context is not exhaustive and some information is missing, such as specific details about the causes and treatment options.', 'Answer': 'Fibromyalgia is a chronic condition characterized by widespread musculoskeletal pain, fatigue, and other symptoms such as sleep disturbances, anxiety, and mood and concentration problems. The exact causes of fibromyalgia are not fully understood, but it is believed to involve a combination of genetic, environmental, and psychological factors, including infections or illnesses, physical or emotional trauma, and changes in brain chemistry.'}\n",
            "Fibromyalgia is a chronic condition characterized by widespread musculoskeletal pain, fatigue, and other symptoms such as sleep disturbances, anxiety, and mood and concentration problems. The exact causes of fibromyalgia are not fully understood, but it is believed to involve a combination of genetic, environmental, and psychological factors, including infections or illnesses, physical or emotional trauma, and changes in brain chemistry.\n",
            "Cost(request_tokens=1610, response_tokens=202, total_tokens=1812, details=None)\n"
          ]
        }
      ]
    },
    {
      "cell_type": "code",
      "source": [
        "query = \"What is the life expectancy of people suffering with fibromyalgia?\"\n",
        "response = groq_agent.run_sync(query)\n",
        "print(response.data)\n",
        "parser = JsonOutputParser()\n",
        "print(parser.parse(response.data))\n",
        "print(parser.parse(response.data)['Answer'])\n",
        "print(response.cost())"
      ],
      "metadata": {
        "colab": {
          "base_uri": "https://localhost:8080/"
        },
        "id": "XtIPCqu3MabM",
        "outputId": "bd67556b-e51f-42c2-bba4-e43473f8172d"
      },
      "execution_count": null,
      "outputs": [
        {
          "output_type": "stream",
          "name": "stdout",
          "text": [
            "RAG Retrieval:['losing\\tspondylitis\\tare\\talso\\tmore\\tlikely\\t\\nto\\tdevelop\\tfibromyalgia.\\t\\n• Symptoms usually appear between \\nages 30 and 55. \\n• Though more common in adults, chil -\\ndren (especially adolescent girls) may \\ndevelop\\tfibromyalgia.\\nFibromyalgia\\nWE ARE CHAMPIONING THE FIGHT AGAINST ARTHRITIS   I  ARTHRITIS.ORG', 'Arthritis Fact Sheet Fibromyalgia\\nMood and Concentration Problems – Feeling sad \\nor being down is common. People with fibromyalgia \\nalso may feel anxious and have difficulty concentrating \\nor performing simple mental tasks. These problems tend \\nto come and go and are often most prominent at times \\nof extreme fatigue or anxiety. Some people with fibro-\\nmyalgia have depression.\\nOther Problems – Headaches, jaw pain, abdominal \\nor pelvic pain, dizziness, restless legs and numbness or', 'conditions. The good news is that it’s not considered a \\nprogressive disease. With proper treatment and lifestyle \\nchanges, symptoms can improve.\\nDoctors don’t know what causes fibromyalgia, but \\nit most likely involves various factors and/or triggers \\nworking together. These may include genes, infections \\nor illnesses and physical or emotional trauma. \\nSigns and Symptoms of Fibromyalgia \\nFibromyalgia has been described as a constellation of']\n",
            "RAG Retrieval:['losing\\tspondylitis\\tare\\talso\\tmore\\tlikely\\t\\nto\\tdevelop\\tfibromyalgia.\\t\\n• Symptoms usually appear between \\nages 30 and 55. \\n• Though more common in adults, chil -\\ndren (especially adolescent girls) may \\ndevelop\\tfibromyalgia.\\nFibromyalgia\\nWE ARE CHAMPIONING THE FIGHT AGAINST ARTHRITIS   I  ARTHRITIS.ORG', 'About Fibromyalgia\\nFibromyalgia is a condition in which the main symptoms \\nare widespread chronic pain and fatigue. The condition \\nis considered a rheumatic disease like many forms of \\narth ritis. But there are key differences. Fibromyalgia does \\nnot cause inflammation or damage joints or muscles. \\nFibromyalgia is not life-threatening but can affect \\nmany aspects of daily life. It can occur by itself but may \\nalso affect people with other forms of arthritis or chronic', 'Arthritis Fact Sheet Fibromyalgia\\nMood and Concentration Problems – Feeling sad \\nor being down is common. People with fibromyalgia \\nalso may feel anxious and have difficulty concentrating \\nor performing simple mental tasks. These problems tend \\nto come and go and are often most prominent at times \\nof extreme fatigue or anxiety. Some people with fibro-\\nmyalgia have depression.\\nOther Problems – Headaches, jaw pain, abdominal \\nor pelvic pain, dizziness, restless legs and numbness or']\n",
            "{\"Relevancy\": 0.6, \"Faithfulness\": 0.8, \"Context Quality\": 0.7, \"Needs Web Search\": true, \"Explanation\": \"The provided context does not explicitly state the life expectancy of people suffering from fibromyalgia. However, it does mention that fibromyalgia is not life-threatening and can affect many aspects of daily life. It also provides information on the symptoms and effects of fibromyalgia, but does not provide a clear answer to the question about life expectancy.\", \"Answer\": \"The life expectancy of people suffering from fibromyalgia is not explicitly stated in the provided context. However, it is mentioned that fibromyalgia is not life-threatening. To get a more accurate answer, a web search is needed.\"}\n",
            "{'Relevancy': 0.6, 'Faithfulness': 0.8, 'Context Quality': 0.7, 'Needs Web Search': True, 'Explanation': 'The provided context does not explicitly state the life expectancy of people suffering from fibromyalgia. However, it does mention that fibromyalgia is not life-threatening and can affect many aspects of daily life. It also provides information on the symptoms and effects of fibromyalgia, but does not provide a clear answer to the question about life expectancy.', 'Answer': 'The life expectancy of people suffering from fibromyalgia is not explicitly stated in the provided context. However, it is mentioned that fibromyalgia is not life-threatening. To get a more accurate answer, a web search is needed.'}\n",
            "The life expectancy of people suffering from fibromyalgia is not explicitly stated in the provided context. However, it is mentioned that fibromyalgia is not life-threatening. To get a more accurate answer, a web search is needed.\n",
            "Cost(request_tokens=2938, response_tokens=211, total_tokens=3149, details=None)\n"
          ]
        }
      ]
    },
    {
      "cell_type": "code",
      "source": [
        "RAG Retrieval:['losing\\tspondylitis\\tare\\talso\\tmore\\tlikely\\t\\nto\\tdevelop\\tfibromyalgia.\\t\\n• Symptoms usually appear between \\nages 30 and 55. \\n• Though more common in adults, chil -\\ndren (especially adolescent girls) may \\ndevelop\\tfibromyalgia.\\nFibromyalgia\\nWE ARE CHAMPIONING THE FIGHT AGAINST ARTHRITIS   I  ARTHRITIS.ORG', 'Arthritis Fact Sheet Fibromyalgia\\nMood and Concentration Problems – Feeling sad \\nor being down is common. People with fibromyalgia \\nalso may feel anxious and have difficulty concentrating \\nor performing simple mental tasks. These problems tend \\nto come and go and are often most prominent at times \\nof extreme fatigue or anxiety. Some people with fibro-\\nmyalgia have depression.\\nOther Problems – Headaches, jaw pain, abdominal \\nor pelvic pain, dizziness, restless legs and numbness or', 'conditions. The good news is that it’s not considered a \\nprogressive disease. With proper treatment and lifestyle \\nchanges, symptoms can improve.\\nDoctors don’t know what causes fibromyalgia, but \\nit most likely involves various factors and/or triggers \\nworking together. These may include genes, infections \\nor illnesses and physical or emotional trauma. \\nSigns and Symptoms of Fibromyalgia \\nFibromyalgia has been described as a constellation of']\n",
        "RAG Retrieval:['losing\\tspondylitis\\tare\\talso\\tmore\\tlikely\\t\\nto\\tdevelop\\tfibromyalgia.\\t\\n• Symptoms usually appear between \\nages 30 and 55. \\n• Though more common in adults, chil -\\ndren (especially adolescent girls) may \\ndevelop\\tfibromyalgia.\\nFibromyalgia\\nWE ARE CHAMPIONING THE FIGHT AGAINST ARTHRITIS   I  ARTHRITIS.ORG', 'About Fibromyalgia\\nFibromyalgia is a condition in which the main symptoms \\nare widespread chronic pain and fatigue. The condition \\nis considered a rheumatic disease like many forms of \\narth ritis. But there are key differences. Fibromyalgia does \\nnot cause inflammation or damage joints or muscles. \\nFibromyalgia is not life-threatening but can affect \\nmany aspects of daily life. It can occur by itself but may \\nalso affect people with other forms of arthritis or chronic', 'Arthritis Fact Sheet Fibromyalgia\\nMood and Concentration Problems – Feeling sad \\nor being down is common. People with fibromyalgia \\nalso may feel anxious and have difficulty concentrating \\nor performing simple mental tasks. These problems tend \\nto come and go and are often most prominent at times \\nof extreme fatigue or anxiety. Some people with fibro-\\nmyalgia have depression.\\nOther Problems – Headaches, jaw pain, abdominal \\nor pelvic pain, dizziness, restless legs and numbness or']\n",
        "{\"Relevancy\": 0.6, \"Faithfulness\": 0.8, \"Context Quality\": 0.7, \"Needs Web Search\": true, \"Explanation\": \"The provided context does not explicitly state the life expectancy of people suffering from fibromyalgia. However, it does mention that fibromyalgia is not life-threatening and can affect many aspects of daily life. It also provides information on the symptoms and effects of fibromyalgia, but does not provide a clear answer to the question about life expectancy.\", \"Answer\": \"The life expectancy of people suffering from fibromyalgia is not explicitly stated in the provided context. However, it is mentioned that fibromyalgia is not life-threatening. To get a more accurate answer, a web search is needed.\"}\n",
        "{'Relevancy': 0.6, 'Faithfulness': 0.8, 'Context Quality': 0.7, 'Needs Web Search': True, 'Explanation': 'The provided context does not explicitly state the life expectancy of people suffering from fibromyalgia. However, it does mention that fibromyalgia is not life-threatening and can affect many aspects of daily life. It also provides information on the symptoms and effects of fibromyalgia, but does not provide a clear answer to the question about life expectancy.', 'Answer': 'The life expectancy of people suffering from fibromyalgia is not explicitly stated in the provided context. However, it is mentioned that fibromyalgia is not life-threatening. To get a more accurate answer, a web search is needed.'}\n",
        "The life expectancy of people suffering from fibromyalgia is not explicitly stated in the provided context. However, it is mentioned that fibromyalgia is not life-threatening. To get a more accurate answer, a web search is needed.\n",
        "Cost(request_tokens=2938, response_tokens=211, total_tokens=3149, details=None)"
      ],
      "metadata": {
        "id": "UpbFCLnIi7xZ"
      },
      "execution_count": null,
      "outputs": []
    }
  ]
}